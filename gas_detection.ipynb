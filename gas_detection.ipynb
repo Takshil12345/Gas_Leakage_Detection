{
 "cells": [
  {
   "cell_type": "code",
   "execution_count": 2,
   "metadata": {},
   "outputs": [
    {
     "name": "stdout",
     "output_type": "stream",
     "text": [
      "Requirement already satisfied: numpy in ./env/lib/python3.9/site-packages (1.23.5)\n",
      "Requirement already satisfied: pandas in ./env/lib/python3.9/site-packages (2.0.1)\n",
      "Requirement already satisfied: python-dateutil>=2.8.2 in ./env/lib/python3.9/site-packages (from pandas) (2.8.2)\n",
      "Requirement already satisfied: pytz>=2020.1 in ./env/lib/python3.9/site-packages (from pandas) (2023.3)\n",
      "Requirement already satisfied: tzdata>=2022.1 in ./env/lib/python3.9/site-packages (from pandas) (2023.3)\n",
      "Requirement already satisfied: six>=1.5 in ./env/lib/python3.9/site-packages (from python-dateutil>=2.8.2->pandas) (1.16.0)\n",
      "Note: you may need to restart the kernel to use updated packages.\n"
     ]
    }
   ],
   "source": [
    "%pip install numpy pandas\n",
    "import numpy as np\n",
    "import pandas as pd\n",
    "\n",
    "datatrain1=pd.read_csv('Batch1e.csv')\n",
    "datatrain2=pd.read_csv('Batch2e.csv')\n",
    "datatrain3=pd.read_csv('Batch3e.csv')\n",
    "datatrain4=pd.read_csv('Batch4e.csv')\n",
    "datatrain5=pd.read_csv('Batch5e.csv')\n",
    "datatrain6=pd.read_csv('Batch6e.csv')\n",
    "datatrain7=pd.read_csv('Batch7e.csv')\n",
    "datatrain8=pd.read_csv('Batch8e.csv')\n",
    "datatrain9=pd.read_csv('Batch9e.csv')\n",
    "datatrain10=pd.read_csv('Batch10e.csv')"
   ]
  },
  {
   "cell_type": "code",
   "execution_count": 3,
   "metadata": {},
   "outputs": [
    {
     "name": "stdout",
     "output_type": "stream",
     "text": [
      "(444, 129)\n"
     ]
    }
   ],
   "source": [
    "print(datatrain1.shape)"
   ]
  },
  {
   "cell_type": "code",
   "execution_count": 4,
   "metadata": {},
   "outputs": [
    {
     "name": "stdout",
     "output_type": "stream",
     "text": [
      "(13900, 129)\n"
     ]
    }
   ],
   "source": [
    "X1=np.array(datatrain1)\n",
    "X2=np.array(datatrain2)\n",
    "X3=np.array(datatrain3)\n",
    "X4=np.array(datatrain4)\n",
    "X5=np.array(datatrain5)\n",
    "X6=np.array(datatrain6)\n",
    "X7=np.array(datatrain7)\n",
    "X8=np.array(datatrain8)\n",
    "X9=np.array(datatrain9)\n",
    "X10=np.array(datatrain10)\n",
    "\n",
    "array_list=[X1,X2,X3,X4,X5,X6,X7,X8,X9,X10]\n",
    "sample = np.concatenate([X1, X2])\n",
    "lengths = [len(X1), len(X2)]\n",
    "datatrain_array=np.vstack(array_list)\n",
    "print(datatrain_array.shape);"
   ]
  },
  {
   "cell_type": "code",
   "execution_count": null,
   "metadata": {},
   "outputs": [],
   "source": []
  },
  {
   "cell_type": "code",
   "execution_count": 5,
   "metadata": {},
   "outputs": [
    {
     "name": "stdout",
     "output_type": "stream",
     "text": [
      "Requirement already satisfied: scikit-learn in ./env/lib/python3.9/site-packages (1.2.2)\n",
      "Requirement already satisfied: numpy>=1.17.3 in ./env/lib/python3.9/site-packages (from scikit-learn) (1.23.5)\n",
      "Requirement already satisfied: scipy>=1.3.2 in ./env/lib/python3.9/site-packages (from scikit-learn) (1.10.1)\n",
      "Requirement already satisfied: joblib>=1.1.1 in ./env/lib/python3.9/site-packages (from scikit-learn) (1.2.0)\n",
      "Requirement already satisfied: threadpoolctl>=2.0.0 in ./env/lib/python3.9/site-packages (from scikit-learn) (3.1.0)\n",
      "Note: you may need to restart the kernel to use updated packages.\n",
      "(13900,)\n"
     ]
    }
   ],
   "source": [
    "%pip install scikit-learn\n",
    "from sklearn.preprocessing import MaxAbsScaler\n",
    "\n",
    "xtrain = datatrain_array[:,1:130]\n",
    "ytrain = datatrain_array[:,0]\n",
    "\n",
    "\n",
    "\n",
    "max_abs_scaler = MaxAbsScaler()\n",
    "xtrain = max_abs_scaler.fit_transform(xtrain)  \n",
    "print(ytrain.shape);"
   ]
  },
  {
   "cell_type": "code",
   "execution_count": 6,
   "metadata": {},
   "outputs": [
    {
     "name": "stdout",
     "output_type": "stream",
     "text": [
      "Requirement already satisfied: keras in ./env/lib/python3.9/site-packages (2.12.0)\n",
      "Note: you may need to restart the kernel to use updated packages.\n",
      "(13900,)\n"
     ]
    }
   ],
   "source": [
    "%pip install keras \n",
    "from sklearn.model_selection import train_test_split\n",
    "from keras.utils import np_utils\n",
    "\n",
    "X_train, X_test, y_train, y_test = train_test_split(xtrain, ytrain, test_size=.1,random_state=1)\n",
    "\n",
    "#changing target format\n",
    "y_train = np_utils.to_categorical(y_train)\n",
    "y_test=np_utils.to_categorical(y_test)\n",
    "print(ytrain.shape)"
   ]
  },
  {
   "cell_type": "code",
   "execution_count": 7,
   "metadata": {},
   "outputs": [
    {
     "name": "stderr",
     "output_type": "stream",
     "text": [
      "2023-04-26 12:16:49.250512: W tensorflow/tsl/platform/profile_utils/cpu_utils.cc:128] Failed to get CPU frequency: 0 Hz\n"
     ]
    },
    {
     "name": "stdout",
     "output_type": "stream",
     "text": [
      "44/44 [==============================] - 0s 326us/step\n",
      "Epoch 1: accuracy=0.31404367089271545\n",
      "Epoch 2: accuracy=0.20987948775291443\n",
      "Epoch 3: accuracy=0.20987948775291443\n",
      "Epoch 4: accuracy=0.20987948775291443\n",
      "Epoch 5: accuracy=0.20987948775291443\n",
      "Epoch 6: accuracy=0.20987948775291443\n",
      "Epoch 7: accuracy=0.20987948775291443\n",
      "Epoch 8: accuracy=0.20987948775291443\n",
      "Epoch 9: accuracy=0.20987948775291443\n",
      "Epoch 10: accuracy=0.20987948775291443\n",
      "Epoch 11: accuracy=0.20987948775291443\n",
      "Epoch 12: accuracy=0.20987948775291443\n",
      "Epoch 13: accuracy=0.20987948775291443\n",
      "Epoch 14: accuracy=0.20987948775291443\n",
      "Epoch 15: accuracy=0.20987948775291443\n",
      "Epoch 16: accuracy=0.20987948775291443\n",
      "Epoch 17: accuracy=0.20987948775291443\n",
      "Epoch 18: accuracy=0.20987948775291443\n",
      "Epoch 19: accuracy=0.20987948775291443\n",
      "Epoch 20: accuracy=0.20987948775291443\n",
      "Epoch 21: accuracy=0.20987948775291443\n",
      "Epoch 22: accuracy=0.20987948775291443\n",
      "Epoch 23: accuracy=0.20987948775291443\n",
      "Epoch 24: accuracy=0.20987948775291443\n",
      "Epoch 25: accuracy=0.20987948775291443\n",
      "Epoch 26: accuracy=0.20987948775291443\n",
      "Epoch 27: accuracy=0.20987948775291443\n",
      "Epoch 28: accuracy=0.20987948775291443\n",
      "Epoch 29: accuracy=0.20987948775291443\n",
      "Epoch 30: accuracy=0.23338504135608673\n",
      "Epoch 31: accuracy=0.211430624127388\n",
      "Epoch 32: accuracy=0.211430624127388\n",
      "Epoch 33: accuracy=0.211430624127388\n",
      "Epoch 34: accuracy=0.211430624127388\n",
      "Epoch 35: accuracy=0.211430624127388\n",
      "Epoch 36: accuracy=0.211430624127388\n",
      "Epoch 37: accuracy=0.211430624127388\n",
      "Epoch 38: accuracy=0.211430624127388\n",
      "Epoch 39: accuracy=0.211430624127388\n",
      "Epoch 40: accuracy=0.211430624127388\n",
      "Epoch 41: accuracy=0.211430624127388\n",
      "Epoch 42: accuracy=0.211430624127388\n",
      "Epoch 43: accuracy=0.211430624127388\n",
      "Epoch 44: accuracy=0.211430624127388\n",
      "Epoch 45: accuracy=0.211430624127388\n",
      "Epoch 46: accuracy=0.211430624127388\n",
      "Epoch 47: accuracy=0.211430624127388\n",
      "Epoch 48: accuracy=0.211430624127388\n",
      "Epoch 49: accuracy=0.211430624127388\n",
      "Epoch 50: accuracy=0.211430624127388\n",
      "Epoch 51: accuracy=0.211430624127388\n",
      "Epoch 52: accuracy=0.211430624127388\n",
      "Epoch 53: accuracy=0.21154993772506714\n",
      "Epoch 54: accuracy=0.2150101363658905\n",
      "Epoch 55: accuracy=0.25879967212677\n",
      "Epoch 56: accuracy=0.3118959665298462\n",
      "Epoch 57: accuracy=0.340890109539032\n",
      "Epoch 58: accuracy=0.36594676971435547\n",
      "Epoch 59: accuracy=0.38121941685676575\n",
      "Epoch 60: accuracy=0.3912420868873596\n",
      "Epoch 61: accuracy=0.39887842535972595\n",
      "Epoch 62: accuracy=0.40281587839126587\n",
      "Epoch 63: accuracy=0.40532156825065613\n",
      "Epoch 64: accuracy=0.4072306454181671\n",
      "Epoch 65: accuracy=0.4094976782798767\n",
      "Epoch 66: accuracy=0.41092947125434875\n",
      "Epoch 67: accuracy=0.4120033383369446\n",
      "Epoch 68: accuracy=0.41283857822418213\n",
      "Epoch 69: accuracy=0.4133158326148987\n",
      "Epoch 70: accuracy=0.41355445981025696\n",
      "Epoch 71: accuracy=0.4137931168079376\n",
      "Epoch 72: accuracy=0.4140317440032959\n",
      "Epoch 73: accuracy=0.41450899839401245\n",
      "Epoch 74: accuracy=0.41773056983947754\n",
      "Epoch 75: accuracy=0.4322873055934906\n",
      "Epoch 76: accuracy=0.4503042697906494\n",
      "Epoch 77: accuracy=0.4627132713794708\n",
      "Epoch 78: accuracy=0.47225868701934814\n",
      "Epoch 79: accuracy=0.47679275274276733\n",
      "Epoch 80: accuracy=0.4871733784675598\n",
      "Epoch 81: accuracy=0.4919460713863373\n",
      "Epoch 82: accuracy=0.49278128147125244\n",
      "Epoch 83: accuracy=0.49385514855384827\n",
      "Epoch 84: accuracy=0.4952869713306427\n",
      "Epoch 85: accuracy=0.4949290156364441\n",
      "Epoch 86: accuracy=0.4952869713306427\n",
      "Epoch 87: accuracy=0.4971960484981537\n",
      "Epoch 88: accuracy=0.5049516558647156\n",
      "Epoch 89: accuracy=0.5150936841964722\n",
      "Epoch 90: accuracy=0.5196277499198914\n",
      "Epoch 91: accuracy=0.5257129073143005\n",
      "Epoch 92: accuracy=0.5286958813667297\n",
      "Epoch 93: accuracy=0.5314401388168335\n",
      "Epoch 94: accuracy=0.5331106185913086\n",
      "Epoch 95: accuracy=0.536093533039093\n",
      "Epoch 96: accuracy=0.5401503443717957\n",
      "Epoch 97: accuracy=0.5452809929847717\n",
      "Epoch 98: accuracy=0.5494571328163147\n",
      "Epoch 99: accuracy=0.5527979731559753\n",
      "Epoch 100: accuracy=0.5604343414306641\n",
      "Epoch 101: accuracy=0.5681899785995483\n",
      "Epoch 102: accuracy=0.5743944644927979\n",
      "Epoch 103: accuracy=0.5776160359382629\n",
      "Epoch 104: accuracy=0.5823887586593628\n",
      "Epoch 105: accuracy=0.5874000787734985\n",
      "Epoch 106: accuracy=0.5889511704444885\n",
      "Epoch 107: accuracy=0.5951557159423828\n",
      "Epoch 108: accuracy=0.6010022759437561\n",
      "Epoch 109: accuracy=0.6068488359451294\n",
      "Epoch 110: accuracy=0.6116214990615845\n",
      "Epoch 111: accuracy=0.618183970451355\n",
      "Epoch 112: accuracy=0.6266555190086365\n",
      "Epoch 113: accuracy=0.6344111561775208\n",
      "Epoch 114: accuracy=0.642524778842926\n",
      "Epoch 115: accuracy=0.6523088216781616\n",
      "Epoch 116: accuracy=0.6606610417366028\n",
      "Epoch 117: accuracy=0.6711609363555908\n",
      "Epoch 118: accuracy=0.6796324849128723\n",
      "Epoch 119: accuracy=0.6870301961898804\n",
      "Epoch 120: accuracy=0.6943085789680481\n",
      "Epoch 121: accuracy=0.7021834850311279\n",
      "Epoch 122: accuracy=0.7162629961967468\n",
      "Epoch 123: accuracy=0.7271208763122559\n",
      "Epoch 124: accuracy=0.7348765134811401\n",
      "Epoch 125: accuracy=0.74120032787323\n",
      "Epoch 126: accuracy=0.7500298023223877\n",
      "Epoch 127: accuracy=0.7593365907669067\n",
      "Epoch 128: accuracy=0.7633934020996094\n",
      "Epoch 129: accuracy=0.7661377191543579\n",
      "Epoch 130: accuracy=0.7721035480499268\n",
      "Epoch 131: accuracy=0.7763990163803101\n",
      "Epoch 132: accuracy=0.778308093547821\n",
      "Epoch 133: accuracy=0.7797399163246155\n",
      "Epoch 134: accuracy=0.7846319079399109\n",
      "Epoch 135: accuracy=0.7917909622192383\n",
      "Epoch 136: accuracy=0.7981147766113281\n",
      "Epoch 137: accuracy=0.8021715879440308\n",
      "Epoch 138: accuracy=0.8075408935546875\n",
      "Epoch 139: accuracy=0.8113590478897095\n",
      "Epoch 140: accuracy=0.8150578737258911\n",
      "Epoch 141: accuracy=0.8201885223388672\n",
      "Epoch 142: accuracy=0.8235294222831726\n",
      "Epoch 143: accuracy=0.8260350823402405\n",
      "Epoch 144: accuracy=0.8271089196205139\n",
      "Epoch 145: accuracy=0.8283020853996277\n",
      "Epoch 146: accuracy=0.8293759822845459\n",
      "Epoch 147: accuracy=0.8316429853439331\n",
      "Epoch 148: accuracy=0.8330748081207275\n",
      "Epoch 149: accuracy=0.8361770510673523\n",
      "Epoch 150: accuracy=0.838324785232544\n"
     ]
    }
   ],
   "source": [
    "from keras.models import Sequential\n",
    "from keras.layers import Dense\n",
    "\n",
    "model = Sequential()\n",
    "model.add(Dense(129, input_dim=128, kernel_initializer='uniform', activation='relu'))\n",
    "model.add(Dense(50, kernel_initializer='uniform', activation='relu'))\n",
    "model.add(Dense(80, kernel_initializer='uniform', activation='relu'))\n",
    "model.add(Dense(7, kernel_initializer='uniform', activation='softmax'))\n",
    "model.compile(loss='categorical_crossentropy', optimizer='adam',\n",
    "              metrics=['mse', 'mae', 'mape', 'acc'])\n",
    "# model.save(\"model.h\")\n",
    "\n",
    "# rename history object to MLP\n",
    "MLP = model.fit(X_train, y_train, epochs=150, batch_size=150000,\n",
    "                validation_split=0.33, verbose=0)\n",
    "\n",
    "y_pred = model.predict(X_test)\n",
    "accuracy = np.array(MLP.history['acc'])\n",
    "\n",
    "# print('ground truth     : ', y_test)\n",
    "# print('predicted class  : ', y_pred)\n",
    "# print('model accuracy   : ', accuracy[199])\n",
    "\n",
    "for epoch, acc in enumerate(MLP.history['acc']):\n",
    "    print(f\"Epoch {epoch + 1}: accuracy={acc}\")\n"
   ]
  },
  {
   "cell_type": "code",
   "execution_count": 8,
   "metadata": {},
   "outputs": [
    {
     "data": {
      "image/png": "[encoded data removed]",
      "text/plain": [
       "<Figure size 400x300 with 1 Axes>"
      ]
     },
     "metadata": {},
     "output_type": "display_data"
    },
    {
     "data": {
      "image/png": "[encoded data removed]",
      "text/plain": [
       "<Figure size 400x300 with 1 Axes>"
      ]
     },
     "metadata": {},
     "output_type": "display_data"
    }
   ],
   "source": [
    "import matplotlib.pyplot as plt\n",
    "\n",
    "# summarize history for accuracy\n",
    "fig = plt.figure(figsize=(4, 3))\n",
    "plt.plot(MLP.history['acc'])\n",
    "plt.plot(MLP.history['val_acc'])\n",
    "plt.title('model accuracy')\n",
    "plt.ylabel('accuracy')\n",
    "plt.xlabel('epoch')\n",
    "plt.legend(['train', 'test'], loc='lower right')\n",
    "rootdir = '/Users/takshilrastogi/Desktop/Dataset'\n",
    "# plt.savefig(rootdir, figsize=(4, 3), dpi=500,bbox_inches='tight', labelsize=11)\n",
    "plt.show()\n",
    "\n",
    "# summarize history for loss\n",
    "fig = plt.figure(figsize=(4, 3))\n",
    "plt.plot(MLP.history['loss'])\n",
    "plt.plot(MLP.history['val_loss'])\n",
    "plt.title('model loss')\n",
    "plt.ylabel('loss')\n",
    "plt.xlabel('epoch')\n",
    "plt.legend(['train', 'test'], loc='upper right')\n",
    "rootdir = '/Users/takshilrastogi/Desktop/Dataset'\n",
    "# plt.savefig(rootdir, figsize=(4, 3), dpi=500,bbox_inches='tight', labelsize=11)\n",
    "plt.show()\n"
   ]
  },
  {
   "cell_type": "code",
   "execution_count": 9,
   "metadata": {},
   "outputs": [
    {
     "name": "stdout",
     "output_type": "stream",
     "text": [
      "INFO:tensorflow:Assets written to: /var/folders/n9/5dh9tpc57dddst3b6cdmr7xm0000gn/T/tmpearcw5kn/assets\n"
     ]
    },
    {
     "name": "stderr",
     "output_type": "stream",
     "text": [
      "2023-04-26 12:16:54.543290: W tensorflow/compiler/mlir/lite/python/tf_tfl_flatbuffer_helpers.cc:364] Ignored output_format.\n",
      "2023-04-26 12:16:54.543301: W tensorflow/compiler/mlir/lite/python/tf_tfl_flatbuffer_helpers.cc:367] Ignored drop_control_dependency.\n"
     ]
    }
   ],
   "source": [
    "import tensorflow as tf\n",
    "\n",
    "converter = tf.lite.TFLiteConverter.from_keras_model(model)\n",
    "tflite_model = converter.convert()\n",
    "\n",
    "# Save the model to disk\n",
    "with open(\"model.tflite\", \"wb\") as f:\n",
    "    f.write(tflite_model)\n",
    "\n",
    "# Convert TFLite model to C array\n",
    "with open(\"./gas_detection.ino/model.h\", \"w\") as f:\n",
    "    f.write(\"const unsigned char model[] = {\\n\")\n",
    "    for i, val in enumerate(tflite_model):\n",
    "        if i % 12 == 0:\n",
    "            f.write(\" \")\n",
    "        f.write(\"0x{:02x}, \".format(val))\n",
    "        if i > 0 and i % 11 == 0:\n",
    "            f.write(\"\\n\")\n",
    "    f.write(\"};\")\n"
   ]
  }
 ],
 "metadata": {
  "kernelspec": {
   "display_name": "env",
   "language": "python",
   "name": "python3"
  },
  "language_info": {
   "codemirror_mode": {
    "name": "ipython",
    "version": 3
   },
   "file_extension": ".py",
   "mimetype": "text/x-python",
   "name": "python",
   "nbconvert_exporter": "python",
   "pygments_lexer": "ipython3",
   "version": "3.9.16"
  },
  "orig_nbformat": 4
 },
 "nbformat": 4,
 "nbformat_minor": 2
}
