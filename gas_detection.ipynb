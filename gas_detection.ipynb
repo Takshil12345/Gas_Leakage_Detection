{
 "cells": [
  {
   "cell_type": "code",
   "execution_count": 30,
   "metadata": {},
   "outputs": [
    {
     "name": "stdout",
     "output_type": "stream",
     "text": [
      "Requirement already satisfied: numpy in ./env/lib/python3.9/site-packages (1.23.5)\n",
      "Requirement already satisfied: pandas in ./env/lib/python3.9/site-packages (2.0.1)\n",
      "Requirement already satisfied: python-dateutil>=2.8.2 in ./env/lib/python3.9/site-packages (from pandas) (2.8.2)\n",
      "Requirement already satisfied: pytz>=2020.1 in ./env/lib/python3.9/site-packages (from pandas) (2023.3)\n",
      "Requirement already satisfied: tzdata>=2022.1 in ./env/lib/python3.9/site-packages (from pandas) (2023.3)\n",
      "Requirement already satisfied: six>=1.5 in ./env/lib/python3.9/site-packages (from python-dateutil>=2.8.2->pandas) (1.16.0)\n",
      "Note: you may need to restart the kernel to use updated packages.\n"
     ]
    }
   ],
   "source": [
    "%pip install numpy pandas\n",
    "import numpy as np\n",
    "import pandas as pd\n",
    "\n",
    "datatrain1=pd.read_csv('Batch1e.csv')\n",
    "datatrain2=pd.read_csv('Batch2e.csv')\n",
    "datatrain3=pd.read_csv('Batch3e.csv')\n",
    "datatrain4=pd.read_csv('Batch4e.csv')\n",
    "datatrain5=pd.read_csv('Batch5e.csv')\n",
    "datatrain6=pd.read_csv('Batch6e.csv')\n",
    "datatrain7=pd.read_csv('Batch7e.csv')\n",
    "datatrain8=pd.read_csv('Batch8e.csv')\n",
    "datatrain9=pd.read_csv('Batch9e.csv')\n",
    "datatrain10=pd.read_csv('Batch10e.csv')"
   ]
  },
  {
   "cell_type": "code",
   "execution_count": 31,
   "metadata": {},
   "outputs": [
    {
     "name": "stdout",
     "output_type": "stream",
     "text": [
      "(444, 129)\n"
     ]
    }
   ],
   "source": [
    "print(datatrain1.shape)"
   ]
  },
  {
   "cell_type": "code",
   "execution_count": 32,
   "metadata": {},
   "outputs": [
    {
     "name": "stdout",
     "output_type": "stream",
     "text": [
      "(13900, 129)\n"
     ]
    }
   ],
   "source": [
    "X1=np.array(datatrain1)\n",
    "X2=np.array(datatrain2)\n",
    "X3=np.array(datatrain3)\n",
    "X4=np.array(datatrain4)\n",
    "X5=np.array(datatrain5)\n",
    "X6=np.array(datatrain6)\n",
    "X7=np.array(datatrain7)\n",
    "X8=np.array(datatrain8)\n",
    "X9=np.array(datatrain9)\n",
    "X10=np.array(datatrain10)\n",
    "\n",
    "array_list=[X1,X2,X3,X4,X5,X6,X7,X8,X9,X10]\n",
    "sample = np.concatenate([X1, X2])\n",
    "lengths = [len(X1), len(X2)]\n",
    "datatrain_array=np.vstack(array_list)\n",
    "print(datatrain_array.shape);"
   ]
  },
  {
   "cell_type": "code",
   "execution_count": null,
   "metadata": {},
   "outputs": [],
   "source": []
  },
  {
   "cell_type": "code",
   "execution_count": 33,
   "metadata": {},
   "outputs": [
    {
     "name": "stdout",
     "output_type": "stream",
     "text": [
      "Requirement already satisfied: scikit-learn in ./env/lib/python3.9/site-packages (1.2.2)\n",
      "Requirement already satisfied: numpy>=1.17.3 in ./env/lib/python3.9/site-packages (from scikit-learn) (1.23.5)\n",
      "Requirement already satisfied: scipy>=1.3.2 in ./env/lib/python3.9/site-packages (from scikit-learn) (1.10.1)\n",
      "Requirement already satisfied: joblib>=1.1.1 in ./env/lib/python3.9/site-packages (from scikit-learn) (1.2.0)\n",
      "Requirement already satisfied: threadpoolctl>=2.0.0 in ./env/lib/python3.9/site-packages (from scikit-learn) (3.1.0)\n",
      "Note: you may need to restart the kernel to use updated packages.\n",
      "(13900,)\n"
     ]
    }
   ],
   "source": [
    "%pip install scikit-learn\n",
    "from sklearn.preprocessing import MaxAbsScaler\n",
    "\n",
    "xtrain = datatrain_array[:,1:130]\n",
    "ytrain = datatrain_array[:,0]\n",
    "\n",
    "\n",
    "\n",
    "max_abs_scaler = MaxAbsScaler()\n",
    "xtrain = max_abs_scaler.fit_transform(xtrain)  \n",
    "print(ytrain.shape);"
   ]
  },
  {
   "cell_type": "code",
   "execution_count": 34,
   "metadata": {},
   "outputs": [
    {
     "name": "stdout",
     "output_type": "stream",
     "text": [
      "Requirement already satisfied: keras in ./env/lib/python3.9/site-packages (2.12.0)\n",
      "Note: you may need to restart the kernel to use updated packages.\n",
      "(13900,)\n"
     ]
    }
   ],
   "source": [
    "%pip install keras \n",
    "from sklearn.model_selection import train_test_split\n",
    "from keras.utils import np_utils\n",
    "\n",
    "X_train, X_test, y_train, y_test = train_test_split(xtrain, ytrain, test_size=.1,random_state=1)\n",
    "\n",
    "#changing target format\n",
    "y_train = np_utils.to_categorical(y_train)\n",
    "y_test=np_utils.to_categorical(y_test)\n",
    "print(ytrain.shape)"
   ]
  },
  {
   "cell_type": "code",
   "execution_count": 35,
   "metadata": {},
   "outputs": [
    {
     "name": "stdout",
     "output_type": "stream",
     "text": [
      "INFO:tensorflow:Assets written to: model.h/assets\n",
      "44/44 [==============================] - 0s 392us/step\n",
      "Epoch 1: accuracy=0.10714711993932724\n",
      "Epoch 2: accuracy=0.3321799337863922\n",
      "Epoch 3: accuracy=0.26345303654670715\n",
      "Epoch 4: accuracy=0.26798710227012634\n",
      "Epoch 5: accuracy=0.3702422082424164\n",
      "Epoch 6: accuracy=0.4143896996974945\n",
      "Epoch 7: accuracy=0.43252596259117126\n",
      "Epoch 8: accuracy=0.4023386240005493\n",
      "Epoch 9: accuracy=0.3542536795139313\n",
      "Epoch 10: accuracy=0.2991289794445038\n",
      "Epoch 11: accuracy=0.22753848135471344\n",
      "Epoch 12: accuracy=0.21202720701694489\n",
      "Epoch 13: accuracy=0.211430624127388\n",
      "Epoch 14: accuracy=0.211430624127388\n",
      "Epoch 15: accuracy=0.211430624127388\n",
      "Epoch 16: accuracy=0.211430624127388\n",
      "Epoch 17: accuracy=0.211430624127388\n",
      "Epoch 18: accuracy=0.211430624127388\n",
      "Epoch 19: accuracy=0.211430624127388\n",
      "Epoch 20: accuracy=0.211430624127388\n",
      "Epoch 21: accuracy=0.211430624127388\n",
      "Epoch 22: accuracy=0.211430624127388\n",
      "Epoch 23: accuracy=0.211430624127388\n",
      "Epoch 24: accuracy=0.211430624127388\n",
      "Epoch 25: accuracy=0.211430624127388\n",
      "Epoch 26: accuracy=0.211430624127388\n",
      "Epoch 27: accuracy=0.211430624127388\n",
      "Epoch 28: accuracy=0.211430624127388\n",
      "Epoch 29: accuracy=0.211430624127388\n",
      "Epoch 30: accuracy=0.211430624127388\n",
      "Epoch 31: accuracy=0.211430624127388\n",
      "Epoch 32: accuracy=0.211430624127388\n",
      "Epoch 33: accuracy=0.211430624127388\n",
      "Epoch 34: accuracy=0.211430624127388\n",
      "Epoch 35: accuracy=0.211430624127388\n",
      "Epoch 36: accuracy=0.2241975963115692\n",
      "Epoch 37: accuracy=0.22944755852222443\n",
      "Epoch 38: accuracy=0.24054408073425293\n",
      "Epoch 39: accuracy=0.27490752935409546\n",
      "Epoch 40: accuracy=0.2539076507091522\n",
      "Epoch 41: accuracy=0.22849301993846893\n",
      "Epoch 42: accuracy=0.21775443851947784\n",
      "Epoch 43: accuracy=0.211430624127388\n",
      "Epoch 44: accuracy=0.211430624127388\n",
      "Epoch 45: accuracy=0.211430624127388\n",
      "Epoch 46: accuracy=0.211430624127388\n",
      "Epoch 47: accuracy=0.211430624127388\n",
      "Epoch 48: accuracy=0.211430624127388\n",
      "Epoch 49: accuracy=0.211430624127388\n",
      "Epoch 50: accuracy=0.2172771692276001\n",
      "Epoch 51: accuracy=0.23398162424564362\n",
      "Epoch 52: accuracy=0.37728193402290344\n",
      "Epoch 53: accuracy=0.4062761068344116\n",
      "Epoch 54: accuracy=0.40567952394485474\n",
      "Epoch 55: accuracy=0.4055601954460144\n",
      "Epoch 56: accuracy=0.4055601954460144\n",
      "Epoch 57: accuracy=0.40603747963905334\n",
      "Epoch 58: accuracy=0.40734994411468506\n",
      "Epoch 59: accuracy=0.4117647111415863\n",
      "Epoch 60: accuracy=0.4117647111415863\n",
      "Epoch 61: accuracy=0.41164538264274597\n",
      "Epoch 62: accuracy=0.40770789980888367\n",
      "Epoch 63: accuracy=0.40734994411468506\n",
      "Epoch 64: accuracy=0.4072306454181671\n",
      "Epoch 65: accuracy=0.4071113169193268\n",
      "Epoch 66: accuracy=0.4075886011123657\n",
      "Epoch 67: accuracy=0.4080658555030823\n",
      "Epoch 68: accuracy=0.40830451250076294\n",
      "Epoch 69: accuracy=0.4196396470069885\n",
      "Epoch 70: accuracy=0.4330032169818878\n",
      "Epoch 71: accuracy=0.4427872598171234\n",
      "Epoch 72: accuracy=0.45269060134887695\n",
      "Epoch 73: accuracy=0.45961102843284607\n",
      "Epoch 74: accuracy=0.47428709268569946\n",
      "Epoch 75: accuracy=0.4853835999965668\n",
      "Epoch 76: accuracy=0.4831165671348572\n",
      "Epoch 77: accuracy=0.4894404113292694\n",
      "Epoch 78: accuracy=0.49898579716682434\n",
      "Epoch 79: accuracy=0.5017300844192505\n",
      "Epoch 80: accuracy=0.5019687414169312\n",
      "Epoch 81: accuracy=0.5019687414169312\n",
      "Epoch 82: accuracy=0.5014914870262146\n",
      "Epoch 83: accuracy=0.5019687414169312\n",
      "Epoch 84: accuracy=0.5018494129180908\n",
      "Epoch 85: accuracy=0.5074573159217834\n",
      "Epoch 86: accuracy=0.508650541305542\n",
      "Epoch 87: accuracy=0.5107982158660889\n",
      "Epoch 88: accuracy=0.5117527842521667\n",
      "Epoch 89: accuracy=0.5141391158103943\n",
      "Epoch 90: accuracy=0.5158095955848694\n",
      "Epoch 91: accuracy=0.5177186727523804\n",
      "Epoch 92: accuracy=0.5187925100326538\n",
      "Epoch 93: accuracy=0.5218947529792786\n",
      "Epoch 94: accuracy=0.5242810845375061\n",
      "Epoch 95: accuracy=0.5269060730934143\n",
      "Epoch 96: accuracy=0.529053807258606\n",
      "Epoch 97: accuracy=0.5315594673156738\n",
      "Epoch 98: accuracy=0.5339458584785461\n",
      "Epoch 99: accuracy=0.5369287729263306\n",
      "Epoch 100: accuracy=0.5403890013694763\n",
      "Epoch 101: accuracy=0.5420594215393066\n",
      "Epoch 102: accuracy=0.5443264245986938\n",
      "Epoch 103: accuracy=0.5454003214836121\n",
      "Epoch 104: accuracy=0.5475479960441589\n",
      "Epoch 105: accuracy=0.548860490322113\n",
      "Epoch 106: accuracy=0.5502923130989075\n",
      "Epoch 107: accuracy=0.5514854788780212\n",
      "Epoch 108: accuracy=0.5536332130432129\n",
      "Epoch 109: accuracy=0.5563775300979614\n",
      "Epoch 110: accuracy=0.5579286217689514\n",
      "Epoch 111: accuracy=0.5594797730445862\n",
      "Epoch 112: accuracy=0.5607922673225403\n",
      "Epoch 113: accuracy=0.5629400014877319\n",
      "Epoch 114: accuracy=0.5659229159355164\n",
      "Epoch 115: accuracy=0.567712664604187\n",
      "Epoch 116: accuracy=0.5689058303833008\n",
      "Epoch 117: accuracy=0.5705763101577759\n",
      "Epoch 118: accuracy=0.571530818939209\n",
      "Epoch 119: accuracy=0.5745137929916382\n",
      "Epoch 120: accuracy=0.5759456157684326\n",
      "Epoch 121: accuracy=0.5771387815475464\n",
      "Epoch 122: accuracy=0.5796444416046143\n",
      "Epoch 123: accuracy=0.5815535187721252\n",
      "Epoch 124: accuracy=0.5834625959396362\n",
      "Epoch 125: accuracy=0.58465576171875\n",
      "Epoch 126: accuracy=0.5864455103874207\n",
      "Epoch 127: accuracy=0.5883545875549316\n",
      "Epoch 128: accuracy=0.590382993221283\n",
      "Epoch 129: accuracy=0.5921728014945984\n",
      "Epoch 130: accuracy=0.5945591330528259\n",
      "Epoch 131: accuracy=0.5961102247238159\n",
      "Epoch 132: accuracy=0.5983772873878479\n",
      "Epoch 133: accuracy=0.6049397587776184\n",
      "Epoch 134: accuracy=0.6106669902801514\n",
      "Epoch 135: accuracy=0.6224794387817383\n",
      "Epoch 136: accuracy=0.6377520561218262\n",
      "Epoch 137: accuracy=0.6467008590698242\n",
      "Epoch 138: accuracy=0.6536213159561157\n",
      "Epoch 139: accuracy=0.6638826131820679\n",
      "Epoch 140: accuracy=0.6777234077453613\n",
      "Epoch 141: accuracy=0.6885812878608704\n",
      "Epoch 142: accuracy=0.6957403421401978\n",
      "Epoch 143: accuracy=0.7027801275253296\n",
      "Epoch 144: accuracy=0.7093425393104553\n",
      "Epoch 145: accuracy=0.7161436676979065\n",
      "Epoch 146: accuracy=0.7230640649795532\n",
      "Epoch 147: accuracy=0.72843337059021\n",
      "Epoch 148: accuracy=0.7321321964263916\n",
      "Epoch 149: accuracy=0.7369049191474915\n",
      "Epoch 150: accuracy=0.7402458190917969\n"
     ]
    }
   ],
   "source": [
    "from keras.models import Sequential\n",
    "from keras.layers import Dense\n",
    "\n",
    "model = Sequential()\n",
    "model.add(Dense(129, input_dim=128, kernel_initializer='uniform', activation='relu'))\n",
    "model.add(Dense(50, kernel_initializer='uniform', activation='relu'))\n",
    "model.add(Dense(80, kernel_initializer='uniform', activation='relu'))\n",
    "model.add(Dense(7, kernel_initializer='uniform', activation='softmax'))\n",
    "model.compile(loss='categorical_crossentropy', optimizer='adam',\n",
    "              metrics=['mse', 'mae', 'mape', 'acc'])\n",
    "# model.save(\"model.h\")\n",
    "\n",
    "# rename history object to MLP\n",
    "MLP = model.fit(X_train, y_train, epochs=150, batch_size=150000,\n",
    "                validation_split=0.33, verbose=0)\n",
    "\n",
    "y_pred = model.predict(X_test)\n",
    "accuracy = np.array(MLP.history['acc'])\n",
    "\n",
    "# print('ground truth     : ', y_test)\n",
    "# print('predicted class  : ', y_pred)\n",
    "# print('model accuracy   : ', accuracy[199])\n",
    "\n",
    "for epoch, acc in enumerate(MLP.history['acc']):\n",
    "    print(f\"Epoch {epoch + 1}: accuracy={acc}\")\n"
   ]
  },
  {
   "cell_type": "code",
   "execution_count": 36,
   "metadata": {},
   "outputs": [
    {
     "data": {
      "image/png": "[encoded data removed]",
      "text/plain": [
       "<Figure size 400x300 with 1 Axes>"
      ]
     },
     "metadata": {},
     "output_type": "display_data"
    },
    {
     "data": {
      "image/png": "[encoded data removed]",
      "text/plain": [
       "<Figure size 400x300 with 1 Axes>"
      ]
     },
     "metadata": {},
     "output_type": "display_data"
    }
   ],
   "source": [
    "import matplotlib.pyplot as plt\n",
    "\n",
    "# summarize history for accuracy\n",
    "fig = plt.figure(figsize=(4, 3))\n",
    "plt.plot(MLP.history['acc'])\n",
    "plt.plot(MLP.history['val_acc'])\n",
    "plt.title('model accuracy')\n",
    "plt.ylabel('accuracy')\n",
    "plt.xlabel('epoch')\n",
    "plt.legend(['train', 'test'], loc='lower right')\n",
    "rootdir = '/Users/takshilrastogi/Desktop/Dataset'\n",
    "# plt.savefig(rootdir, figsize=(4, 3), dpi=500,bbox_inches='tight', labelsize=11)\n",
    "plt.show()\n",
    "\n",
    "# summarize history for loss\n",
    "fig = plt.figure(figsize=(4, 3))\n",
    "plt.plot(MLP.history['loss'])\n",
    "plt.plot(MLP.history['val_loss'])\n",
    "plt.title('model loss')\n",
    "plt.ylabel('loss')\n",
    "plt.xlabel('epoch')\n",
    "plt.legend(['train', 'test'], loc='upper right')\n",
    "rootdir = '/Users/takshilrastogi/Desktop/Dataset'\n",
    "# plt.savefig(rootdir, figsize=(4, 3), dpi=500,bbox_inches='tight', labelsize=11)\n",
    "plt.show()\n"
   ]
  },
  {
   "cell_type": "code",
   "execution_count": 39,
   "metadata": {},
   "outputs": [
    {
     "name": "stdout",
     "output_type": "stream",
     "text": [
      "INFO:tensorflow:Assets written to: /var/folders/n9/5dh9tpc57dddst3b6cdmr7xm0000gn/T/tmpzi_j7jiv/assets\n"
     ]
    },
    {
     "name": "stderr",
     "output_type": "stream",
     "text": [
      "INFO:tensorflow:Assets written to: /var/folders/n9/5dh9tpc57dddst3b6cdmr7xm0000gn/T/tmpzi_j7jiv/assets\n",
      "2023-04-26 11:26:51.947905: W tensorflow/compiler/mlir/lite/python/tf_tfl_flatbuffer_helpers.cc:364] Ignored output_format.\n",
      "2023-04-26 11:26:51.948035: W tensorflow/compiler/mlir/lite/python/tf_tfl_flatbuffer_helpers.cc:367] Ignored drop_control_dependency.\n"
     ]
    }
   ],
   "source": [
    "import tensorflow as tf\n",
    "\n",
    "converter = tf.lite.TFLiteConverter.from_keras_model(model)\n",
    "tflite_model = converter.convert()\n",
    "\n",
    "# Save the model to disk\n",
    "with open(\"model.tflite\", \"wb\") as f:\n",
    "    f.write(tflite_model)\n",
    "\n",
    "# Convert TFLite model to C array\n",
    "with open(\"model.h\", \"w\") as f:\n",
    "    f.write(\"const unsigned char model[] = {\\n\")\n",
    "    for i, val in enumerate(tflite_model):\n",
    "        if i % 12 == 0:\n",
    "            f.write(\" \")\n",
    "        f.write(\"0x{:02x}, \".format(val))\n",
    "        if i > 0 and i % 11 == 0:\n",
    "            f.write(\"\\n\")\n",
    "    f.write(\"};\")\n"
   ]
  }
 ],
 "metadata": {
  "kernelspec": {
   "display_name": "env",
   "language": "python",
   "name": "python3"
  },
  "language_info": {
   "codemirror_mode": {
    "name": "ipython",
    "version": 3
   },
   "file_extension": ".py",
   "mimetype": "text/x-python",
   "name": "python",
   "nbconvert_exporter": "python",
   "pygments_lexer": "ipython3",
   "version": "3.9.16"
  },
  "orig_nbformat": 4
 },
 "nbformat": 4,
 "nbformat_minor": 2
}
